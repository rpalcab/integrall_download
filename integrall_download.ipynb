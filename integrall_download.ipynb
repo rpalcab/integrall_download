{
 "cells": [
  {
   "cell_type": "code",
   "execution_count": 1,
   "id": "a701db47",
   "metadata": {},
   "outputs": [],
   "source": [
    "import pandas as pd\n",
    "from bs4 import BeautifulSoup\n",
    "import requests\n",
    "from Bio import Entrez, SeqIO\n",
    "import os\n",
    "from time import sleep\n",
    "from concurrent.futures import ThreadPoolExecutor, as_completed"
   ]
  },
  {
   "cell_type": "code",
   "execution_count": null,
   "id": "b8d1c346",
   "metadata": {},
   "outputs": [],
   "source": [
    "Entrez.email = \"rosalia.palomino@alumnos.unican.es\"\n",
    "outdir = \"integron_gbk/\"\n",
    "max_size = 15000"
   ]
  },
  {
   "cell_type": "code",
   "execution_count": 3,
   "id": "e8581285",
   "metadata": {},
   "outputs": [],
   "source": [
    "def fetch_accessions():\n",
    "    # Retrieve all accessions from INTEGRALL list section\n",
    "    print('Getting accessions from http://integrall.bio.ua.pt/?list')\n",
    "    d_accessions = {}\n",
    "\n",
    "    for i in range(0,12000,50):\n",
    "        update_status = i // 120\n",
    "        print(\"[%-50s] %d%%\" % ('=' * (update_status // 2), update_status), end = '\\r')\n",
    "        url = f'http://integrall.bio.ua.pt/?list&s={i}&ob=org'\n",
    "        headers = {\"user-agent\": \"Mozilla/5.0\"}\n",
    "\n",
    "        response = requests.get(url, headers=headers)\n",
    "        response.raise_for_status()\n",
    "\n",
    "        soup = BeautifulSoup(response.content, \"html.parser\")\n",
    "\n",
    "        tables = soup.select('table')\n",
    "\n",
    "        my_table = tables[2]\n",
    "        rows = my_table.findChildren(['tr'])\n",
    "\n",
    "        for row in rows[3:-1]:\n",
    "            cells = row.findChildren('td')\n",
    "            acc = cells[0].text.strip()\n",
    "            org = cells[1].text.strip()\n",
    "            int = cells[2].text.strip()\n",
    "            cass = cells[3].text.strip()\n",
    "            d_accessions[acc] = [org, int, cass]\n",
    "\n",
    "    # remove initial empty key\n",
    "    d_accessions.pop('', None)\n",
    "\n",
    "    print(f'\\n{len(d_accessions)} accessions found in first search.')\n",
    "\n",
    "    return d_accessions"
   ]
  },
  {
   "cell_type": "code",
   "execution_count": 4,
   "id": "ec4b8dbc",
   "metadata": {},
   "outputs": [],
   "source": [
    "def get_sequence_size(acc):\n",
    "    try:\n",
    "        handle = Entrez.esummary(db=\"nucleotide\", id=acc, retmode=\"xml\")\n",
    "        summary = Entrez.read(handle)\n",
    "        handle.close()\n",
    "        return int(summary[0][\"Length\"])\n",
    "    except Exception as e:\n",
    "        return -1"
   ]
  },
  {
   "cell_type": "code",
   "execution_count": null,
   "id": "b465fbcc",
   "metadata": {},
   "outputs": [],
   "source": [
    "def download_gbk(acc, max_size):\n",
    "    try:\n",
    "        sleep(0.35)\n",
    "        size = get_sequence_size(acc)\n",
    "        if size == -1:\n",
    "            return (acc, \"summary_failed\")\n",
    "        if size > max_size:\n",
    "            return (acc, \"too_large\")\n",
    "\n",
    "        handle = Entrez.efetch(db=\"nucleotide\", id=acc, rettype=\"gb\", retmode=\"text\")\n",
    "        gbk = handle.read()\n",
    "        handle.close()\n",
    "\n",
    "        with open(os.path.join(outdir, f\"{acc}.gbk\"), \"w\") as out:\n",
    "            out.write(gbk)\n",
    "        return (acc, \"success\")\n",
    "\n",
    "    except Exception as e:\n",
    "        return (acc, \"error\")"
   ]
  },
  {
   "cell_type": "code",
   "execution_count": null,
   "id": "122515ed",
   "metadata": {},
   "outputs": [
    {
     "name": "stdout",
     "output_type": "stream",
     "text": [
      "Getting accessions from http://integrall.bio.ua.pt/?list\n",
      "[================================================= ] 99%\n",
      "11955 accessions found in first search.\n",
      "Fetching sequences (parallel)...\n"
     ]
    },
    {
     "name": "stderr",
     "output_type": "stream",
     "text": [
      "/home/rosalia/anaconda3/lib/python3.12/site-packages/Bio/Entrez/__init__.py:734: UserWarning: \n",
      "            Email address is not specified.\n",
      "\n",
      "            To make use of NCBI's E-utilities, NCBI requires you to specify your\n",
      "            email address with each request.  As an example, if your email address\n",
      "            is A.N.Other@example.com, you can specify it as follows:\n",
      "               from Bio import Entrez\n",
      "               Entrez.email = 'A.N.Other@example.com'\n",
      "            In case of excessive usage of the E-utilities, NCBI will attempt to contact\n",
      "            a user at the email address provided before blocking access to the\n",
      "            E-utilities.\n",
      "  warnings.warn(\n"
     ]
    },
    {
     "name": "stdout",
     "output_type": "stream",
     "text": [
      "[381/11955] KJ546444: errorss_failed\r"
     ]
    }
   ],
   "source": [
    "# def main():\n",
    "accessions = fetch_accessions()\n",
    "n_workers = 8\n",
    "results = {\"success\": [], \"too_large\": [], \"summary_failed\": [], \"error\": []}\n",
    "\n",
    "print(\"Fetching sequences (parallel)...\")\n",
    "with ThreadPoolExecutor(max_workers=n_workers) as executor:\n",
    "    futures = {executor.submit(download_gbk, acc, max_size): acc for acc in accessions}\n",
    "    for i, future in enumerate(as_completed(futures)):\n",
    "        acc, status = future.result()\n",
    "        results[status].append(acc)\n",
    "        print(f\"[{i+1}/{len(accessions)}] {acc}: {status}\", end='\\x1b[1K\\r')\n",
    "\n",
    "for key, val in results.items():\n",
    "    print(f\"{key}: {len(val)} entries\")\n",
    "\n",
    "# if __name__ == \"__main__\":\n",
    "#     main()"
   ]
  }
 ],
 "metadata": {
  "kernelspec": {
   "display_name": "base",
   "language": "python",
   "name": "python3"
  },
  "language_info": {
   "codemirror_mode": {
    "name": "ipython",
    "version": 3
   },
   "file_extension": ".py",
   "mimetype": "text/x-python",
   "name": "python",
   "nbconvert_exporter": "python",
   "pygments_lexer": "ipython3",
   "version": "3.12.2"
  }
 },
 "nbformat": 4,
 "nbformat_minor": 5
}
